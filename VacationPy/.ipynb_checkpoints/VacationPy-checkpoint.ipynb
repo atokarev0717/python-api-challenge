{
 "cells": [
  {
   "cell_type": "markdown",
   "metadata": {},
   "source": [
    "# VacationPy\n",
    "----\n",
    "\n",
    "#### Note\n",
    "* Keep an eye on your API usage. Use https://developers.google.com/maps/reporting/gmp-reporting as reference for how to monitor your usage and billing.\n",
    "\n",
    "* Instructions have been included for each segment. You do not have to follow them exactly, but they are included to help you think through the steps."
   ]
  },
  {
   "cell_type": "code",
   "execution_count": 12,
   "metadata": {},
   "outputs": [],
   "source": [
    "# Dependencies and Setup\n",
    "import matplotlib.pyplot as plt\n",
    "import pandas as pd\n",
    "import numpy as np\n",
    "import requests\n",
    "import gmaps\n",
    "import os\n",
    "\n",
    "# Import API key\n",
    "from api_key import g_key"
   ]
  },
  {
   "cell_type": "markdown",
   "metadata": {},
   "source": [
    "### Store Part I results into DataFrame\n",
    "* Load the csv exported in Part I to a DataFrame"
   ]
  },
  {
   "cell_type": "code",
   "execution_count": 69,
   "metadata": {},
   "outputs": [
    {
     "data": {
      "text/html": [
       "<div>\n",
       "<style scoped>\n",
       "    .dataframe tbody tr th:only-of-type {\n",
       "        vertical-align: middle;\n",
       "    }\n",
       "\n",
       "    .dataframe tbody tr th {\n",
       "        vertical-align: top;\n",
       "    }\n",
       "\n",
       "    .dataframe thead th {\n",
       "        text-align: right;\n",
       "    }\n",
       "</style>\n",
       "<table border=\"1\" class=\"dataframe\">\n",
       "  <thead>\n",
       "    <tr style=\"text-align: right;\">\n",
       "      <th></th>\n",
       "      <th>city</th>\n",
       "      <th>country</th>\n",
       "      <th>max_temp</th>\n",
       "      <th>humidity</th>\n",
       "      <th>cloudiness</th>\n",
       "      <th>wind_speed</th>\n",
       "      <th>lat</th>\n",
       "      <th>lon</th>\n",
       "      <th>date</th>\n",
       "    </tr>\n",
       "  </thead>\n",
       "  <tbody>\n",
       "    <tr>\n",
       "      <th>0</th>\n",
       "      <td>Torbay</td>\n",
       "      <td>CA</td>\n",
       "      <td>32.00</td>\n",
       "      <td>74</td>\n",
       "      <td>90</td>\n",
       "      <td>9.17</td>\n",
       "      <td>47.67</td>\n",
       "      <td>-52.73</td>\n",
       "      <td>1607879851</td>\n",
       "    </tr>\n",
       "    <tr>\n",
       "      <th>1</th>\n",
       "      <td>Licheng</td>\n",
       "      <td>CN</td>\n",
       "      <td>73.00</td>\n",
       "      <td>88</td>\n",
       "      <td>90</td>\n",
       "      <td>8.95</td>\n",
       "      <td>23.30</td>\n",
       "      <td>113.83</td>\n",
       "      <td>1607879717</td>\n",
       "    </tr>\n",
       "    <tr>\n",
       "      <th>2</th>\n",
       "      <td>Urzhum</td>\n",
       "      <td>RU</td>\n",
       "      <td>8.67</td>\n",
       "      <td>94</td>\n",
       "      <td>68</td>\n",
       "      <td>6.29</td>\n",
       "      <td>57.11</td>\n",
       "      <td>50.00</td>\n",
       "      <td>1607879874</td>\n",
       "    </tr>\n",
       "    <tr>\n",
       "      <th>3</th>\n",
       "      <td>Etchoropo</td>\n",
       "      <td>MX</td>\n",
       "      <td>66.99</td>\n",
       "      <td>64</td>\n",
       "      <td>0</td>\n",
       "      <td>3.00</td>\n",
       "      <td>26.77</td>\n",
       "      <td>-109.67</td>\n",
       "      <td>1607879874</td>\n",
       "    </tr>\n",
       "    <tr>\n",
       "      <th>4</th>\n",
       "      <td>Ushuaia</td>\n",
       "      <td>AR</td>\n",
       "      <td>46.40</td>\n",
       "      <td>70</td>\n",
       "      <td>75</td>\n",
       "      <td>13.87</td>\n",
       "      <td>-54.80</td>\n",
       "      <td>-68.30</td>\n",
       "      <td>1607879874</td>\n",
       "    </tr>\n",
       "    <tr>\n",
       "      <th>...</th>\n",
       "      <td>...</td>\n",
       "      <td>...</td>\n",
       "      <td>...</td>\n",
       "      <td>...</td>\n",
       "      <td>...</td>\n",
       "      <td>...</td>\n",
       "      <td>...</td>\n",
       "      <td>...</td>\n",
       "      <td>...</td>\n",
       "    </tr>\n",
       "    <tr>\n",
       "      <th>546</th>\n",
       "      <td>Pelym</td>\n",
       "      <td>RU</td>\n",
       "      <td>18.64</td>\n",
       "      <td>91</td>\n",
       "      <td>98</td>\n",
       "      <td>7.20</td>\n",
       "      <td>61.01</td>\n",
       "      <td>62.00</td>\n",
       "      <td>1607879941</td>\n",
       "    </tr>\n",
       "    <tr>\n",
       "      <th>547</th>\n",
       "      <td>Escanaba</td>\n",
       "      <td>US</td>\n",
       "      <td>24.80</td>\n",
       "      <td>73</td>\n",
       "      <td>90</td>\n",
       "      <td>3.36</td>\n",
       "      <td>45.75</td>\n",
       "      <td>-87.06</td>\n",
       "      <td>1607879941</td>\n",
       "    </tr>\n",
       "    <tr>\n",
       "      <th>548</th>\n",
       "      <td>Manaus</td>\n",
       "      <td>BR</td>\n",
       "      <td>89.60</td>\n",
       "      <td>66</td>\n",
       "      <td>40</td>\n",
       "      <td>3.36</td>\n",
       "      <td>-3.10</td>\n",
       "      <td>-60.02</td>\n",
       "      <td>1607879941</td>\n",
       "    </tr>\n",
       "    <tr>\n",
       "      <th>549</th>\n",
       "      <td>Burmakino</td>\n",
       "      <td>RU</td>\n",
       "      <td>21.20</td>\n",
       "      <td>73</td>\n",
       "      <td>90</td>\n",
       "      <td>8.95</td>\n",
       "      <td>57.42</td>\n",
       "      <td>40.24</td>\n",
       "      <td>1607879942</td>\n",
       "    </tr>\n",
       "    <tr>\n",
       "      <th>550</th>\n",
       "      <td>Laguna</td>\n",
       "      <td>US</td>\n",
       "      <td>50.00</td>\n",
       "      <td>87</td>\n",
       "      <td>90</td>\n",
       "      <td>11.41</td>\n",
       "      <td>38.42</td>\n",
       "      <td>-121.42</td>\n",
       "      <td>1607879639</td>\n",
       "    </tr>\n",
       "  </tbody>\n",
       "</table>\n",
       "<p>551 rows × 9 columns</p>\n",
       "</div>"
      ],
      "text/plain": [
       "          city country  max_temp  humidity  cloudiness  wind_speed    lat  \\\n",
       "0       Torbay      CA     32.00        74          90        9.17  47.67   \n",
       "1      Licheng      CN     73.00        88          90        8.95  23.30   \n",
       "2       Urzhum      RU      8.67        94          68        6.29  57.11   \n",
       "3    Etchoropo      MX     66.99        64           0        3.00  26.77   \n",
       "4      Ushuaia      AR     46.40        70          75       13.87 -54.80   \n",
       "..         ...     ...       ...       ...         ...         ...    ...   \n",
       "546      Pelym      RU     18.64        91          98        7.20  61.01   \n",
       "547   Escanaba      US     24.80        73          90        3.36  45.75   \n",
       "548     Manaus      BR     89.60        66          40        3.36  -3.10   \n",
       "549  Burmakino      RU     21.20        73          90        8.95  57.42   \n",
       "550     Laguna      US     50.00        87          90       11.41  38.42   \n",
       "\n",
       "        lon        date  \n",
       "0    -52.73  1607879851  \n",
       "1    113.83  1607879717  \n",
       "2     50.00  1607879874  \n",
       "3   -109.67  1607879874  \n",
       "4    -68.30  1607879874  \n",
       "..      ...         ...  \n",
       "546   62.00  1607879941  \n",
       "547  -87.06  1607879941  \n",
       "548  -60.02  1607879941  \n",
       "549   40.24  1607879942  \n",
       "550 -121.42  1607879639  \n",
       "\n",
       "[551 rows x 9 columns]"
      ]
     },
     "execution_count": 69,
     "metadata": {},
     "output_type": "execute_result"
    }
   ],
   "source": [
    "weather_df = pd.read_csv('../WeatherPy/output_data/cities_weather.csv')\n",
    "weather_df"
   ]
  },
  {
   "cell_type": "markdown",
   "metadata": {},
   "source": [
    "### Humidity Heatmap\n",
    "* Configure gmaps.\n",
    "* Use the Lat and Lng as locations and Humidity as the weight.\n",
    "* Add Heatmap layer to map."
   ]
  },
  {
   "cell_type": "code",
   "execution_count": 64,
   "metadata": {},
   "outputs": [],
   "source": [
    "gmaps.configure(api_key=g_key)\n",
    "locations = weather_df[[\"lat\", \"lon\"]]\n",
    "humidity = weather_df['humidity'].astype(float)"
   ]
  },
  {
   "cell_type": "code",
   "execution_count": 65,
   "metadata": {},
   "outputs": [
    {
     "data": {
      "application/vnd.jupyter.widget-view+json": {
       "model_id": "4e507d4bf769460b9a54f5af51090960",
       "version_major": 2,
       "version_minor": 0
      },
      "text/plain": [
       "Figure(layout=FigureLayout(height='420px'))"
      ]
     },
     "metadata": {},
     "output_type": "display_data"
    }
   ],
   "source": [
    "fig = gmaps.figure(center =(weather_df[\"lat\"].mean(),weather_df[\"lon\"].mean()), zoom_level=2)\n",
    "heat_layer = gmaps.heatmap_layer(locations, weights=humidity, \n",
    "                                 dissipating=False, max_intensity=100, point_radius=2)\n",
    "fig.add_layer(heat_layer)\n",
    "fig"
   ]
  },
  {
   "cell_type": "markdown",
   "metadata": {},
   "source": [
    "### Create new DataFrame fitting weather criteria\n",
    "* Narrow down the cities to fit weather conditions.\n",
    "* Drop any rows will null values."
   ]
  },
  {
   "cell_type": "code",
   "execution_count": 76,
   "metadata": {},
   "outputs": [
    {
     "data": {
      "text/plain": [
       "city          10\n",
       "country       10\n",
       "max_temp      10\n",
       "humidity      10\n",
       "cloudiness    10\n",
       "wind_speed    10\n",
       "lat           10\n",
       "lon           10\n",
       "date          10\n",
       "dtype: int64"
      ]
     },
     "execution_count": 76,
     "metadata": {},
     "output_type": "execute_result"
    }
   ],
   "source": [
    "narrowed_conditions = weather_df.dropna()\n",
    "narrowed_conditions = narrowed_conditions[narrowed_conditions['max_temp']<80]\n",
    "narrowed_conditions = narrowed_conditions[narrowed_conditions['max_temp']>70]\n",
    "narrowed_conditions = narrowed_conditions[narrowed_conditions['wind_speed']<10]\n",
    "narrowed_conditions = narrowed_conditions[narrowed_conditions['cloudiness']==0]\n",
    "\n",
    "narrowed_conditions.count()"
   ]
  },
  {
   "cell_type": "markdown",
   "metadata": {},
   "source": [
    "### Hotel Map\n",
    "* Store into variable named `hotel_df`.\n",
    "* Add a \"Hotel Name\" column to the DataFrame.\n",
    "* Set parameters to search for hotels with 5000 meters.\n",
    "* Hit the Google Places API for each city's coordinates.\n",
    "* Store the first Hotel result into the DataFrame.\n",
    "* Plot markers on top of the heatmap."
   ]
  },
  {
   "cell_type": "code",
   "execution_count": null,
   "metadata": {},
   "outputs": [],
   "source": []
  },
  {
   "cell_type": "code",
   "execution_count": null,
   "metadata": {},
   "outputs": [],
   "source": []
  },
  {
   "cell_type": "code",
   "execution_count": null,
   "metadata": {},
   "outputs": [],
   "source": [
    "# NOTE: Do not change any of the code in this cell\n",
    "\n",
    "# Using the template add the hotel marks to the heatmap\n",
    "info_box_template = \"\"\"\n",
    "<dl>\n",
    "<dt>Name</dt><dd>{Hotel Name}</dd>\n",
    "<dt>City</dt><dd>{City}</dd>\n",
    "<dt>Country</dt><dd>{Country}</dd>\n",
    "</dl>\n",
    "\"\"\"\n",
    "# Store the DataFrame Row\n",
    "# NOTE: be sure to update with your DataFrame name\n",
    "hotel_info = [info_box_template.format(**row) for index, row in hotel_df.iterrows()]\n",
    "locations = hotel_df[[\"Lat\", \"Lng\"]]"
   ]
  },
  {
   "cell_type": "code",
   "execution_count": null,
   "metadata": {},
   "outputs": [],
   "source": [
    "# Add marker layer ontop of heat map\n",
    "\n",
    "\n",
    "# Display figure\n"
   ]
  },
  {
   "cell_type": "code",
   "execution_count": null,
   "metadata": {},
   "outputs": [],
   "source": []
  }
 ],
 "metadata": {
  "kernelspec": {
   "display_name": "Python 3",
   "language": "python",
   "name": "python3"
  },
  "language_info": {
   "codemirror_mode": {
    "name": "ipython",
    "version": 3
   },
   "file_extension": ".py",
   "mimetype": "text/x-python",
   "name": "python",
   "nbconvert_exporter": "python",
   "pygments_lexer": "ipython3",
   "version": "3.8.5"
  },
  "latex_envs": {
   "LaTeX_envs_menu_present": true,
   "autoclose": false,
   "autocomplete": true,
   "bibliofile": "biblio.bib",
   "cite_by": "apalike",
   "current_citInitial": 1,
   "eqLabelWithNumbers": true,
   "eqNumInitial": 1,
   "hotkeys": {
    "equation": "Ctrl-E",
    "itemize": "Ctrl-I"
   },
   "labels_anchors": false,
   "latex_user_defs": false,
   "report_style_numbering": false,
   "user_envs_cfg": false
  }
 },
 "nbformat": 4,
 "nbformat_minor": 4
}
