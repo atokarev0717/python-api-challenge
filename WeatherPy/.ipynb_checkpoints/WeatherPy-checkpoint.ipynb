{
 "cells": [
  {
   "cell_type": "markdown",
   "metadata": {},
   "source": [
    "# WeatherPy\n",
    "----\n",
    "\n",
    "#### Note\n",
    "* Instructions have been included for each segment. You do not have to follow them exactly, but they are included to help you think through the steps."
   ]
  },
  {
   "cell_type": "code",
   "execution_count": 30,
   "metadata": {
    "scrolled": true
   },
   "outputs": [],
   "source": [
    "# Dependencies and Setup\n",
    "import matplotlib.pyplot as plt\n",
    "import pandas as pd\n",
    "import numpy as np\n",
    "import requests\n",
    "from scipy.stats import linregress\n",
    "import json\n",
    "from datetime import date\n",
    "\n",
    "# Import API key\n",
    "from api_key import weather_api_key\n",
    "\n",
    "# Incorporated citipy to determine city based on latitude and longitude\n",
    "from citipy import citipy\n",
    "\n",
    "# Output File (CSV)\n",
    "output_data_file = \"output_data/cities.csv\"\n",
    "\n",
    "# Range of latitudes and longitudes\n",
    "lat_range = (-90, 90)\n",
    "lng_range = (-180, 180)"
   ]
  },
  {
   "cell_type": "markdown",
   "metadata": {},
   "source": [
    "## Generate Cities List"
   ]
  },
  {
   "cell_type": "code",
   "execution_count": 2,
   "metadata": {},
   "outputs": [
    {
     "data": {
      "text/plain": [
       "600"
      ]
     },
     "execution_count": 2,
     "metadata": {},
     "output_type": "execute_result"
    }
   ],
   "source": [
    "# List for holding lat_lngs and cities\n",
    "lat_lngs = []\n",
    "cities = []\n",
    "\n",
    "# Create a set of random lat and lng combinations\n",
    "lats = np.random.uniform(lat_range[0], lat_range[1], size=1500)\n",
    "lngs = np.random.uniform(lng_range[0], lng_range[1], size=1500)\n",
    "lat_lngs = zip(lats, lngs)\n",
    "\n",
    "# Identify nearest city for each lat, lng combination\n",
    "for lat_lng in lat_lngs:\n",
    "    city = citipy.nearest_city(lat_lng[0], lat_lng[1]).city_name\n",
    "    \n",
    "    # If the city is unique, then add it to a our cities list\n",
    "    if city not in cities:\n",
    "        cities.append(city)\n",
    "\n",
    "# Print the city count to confirm sufficient count\n",
    "len(cities)"
   ]
  },
  {
   "cell_type": "markdown",
   "metadata": {},
   "source": [
    "### Perform API Calls\n",
    "* Perform a weather check on each city using a series of successive API calls.\n",
    "* Include a print log of each city as it'sbeing processed (with the city number and city name).\n"
   ]
  },
  {
   "cell_type": "code",
   "execution_count": 3,
   "metadata": {},
   "outputs": [
    {
     "name": "stdout",
     "output_type": "stream",
     "text": [
      "http://api.openweathermap.org/data/2.5/weather?units=imperial&q=torbay&appid=\"YOUR_API_KEY\"\n",
      "http://api.openweathermap.org/data/2.5/weather?units=imperial&q=licheng&appid=\"YOUR_API_KEY\"\n",
      "http://api.openweathermap.org/data/2.5/weather?units=imperial&q=urzhum&appid=\"YOUR_API_KEY\"\n",
      "http://api.openweathermap.org/data/2.5/weather?units=imperial&q=illoqqortoormiut&appid=\"YOUR_API_KEY\"\n",
      "http://api.openweathermap.org/data/2.5/weather?units=imperial&q=etchoropo&appid=\"YOUR_API_KEY\"\n",
      "http://api.openweathermap.org/data/2.5/weather?units=imperial&q=ushuaia&appid=\"YOUR_API_KEY\"\n",
      "http://api.openweathermap.org/data/2.5/weather?units=imperial&q=sao joao da barra&appid=\"YOUR_API_KEY\"\n",
      "http://api.openweathermap.org/data/2.5/weather?units=imperial&q=qui nhon&appid=\"YOUR_API_KEY\"\n",
      "http://api.openweathermap.org/data/2.5/weather?units=imperial&q=atuona&appid=\"YOUR_API_KEY\"\n",
      "http://api.openweathermap.org/data/2.5/weather?units=imperial&q=nanortalik&appid=\"YOUR_API_KEY\"\n",
      "http://api.openweathermap.org/data/2.5/weather?units=imperial&q=kamina&appid=\"YOUR_API_KEY\"\n",
      "http://api.openweathermap.org/data/2.5/weather?units=imperial&q=dawei&appid=\"YOUR_API_KEY\"\n",
      "http://api.openweathermap.org/data/2.5/weather?units=imperial&q=chuy&appid=\"YOUR_API_KEY\"\n",
      "http://api.openweathermap.org/data/2.5/weather?units=imperial&q=kaa-khem&appid=\"YOUR_API_KEY\"\n",
      "http://api.openweathermap.org/data/2.5/weather?units=imperial&q=kisaran&appid=\"YOUR_API_KEY\"\n",
      "http://api.openweathermap.org/data/2.5/weather?units=imperial&q=marcona&appid=\"YOUR_API_KEY\"\n",
      "http://api.openweathermap.org/data/2.5/weather?units=imperial&q=sucre&appid=\"YOUR_API_KEY\"\n",
      "http://api.openweathermap.org/data/2.5/weather?units=imperial&q=qaanaaq&appid=\"YOUR_API_KEY\"\n",
      "http://api.openweathermap.org/data/2.5/weather?units=imperial&q=saldanha&appid=\"YOUR_API_KEY\"\n",
      "http://api.openweathermap.org/data/2.5/weather?units=imperial&q=saskylakh&appid=\"YOUR_API_KEY\"\n",
      "http://api.openweathermap.org/data/2.5/weather?units=imperial&q=celestun&appid=\"YOUR_API_KEY\"\n",
      "http://api.openweathermap.org/data/2.5/weather?units=imperial&q=douglas&appid=\"YOUR_API_KEY\"\n",
      "http://api.openweathermap.org/data/2.5/weather?units=imperial&q=tagusao&appid=\"YOUR_API_KEY\"\n",
      "http://api.openweathermap.org/data/2.5/weather?units=imperial&q=nizhneyansk&appid=\"YOUR_API_KEY\"\n",
      "http://api.openweathermap.org/data/2.5/weather?units=imperial&q=busselton&appid=\"YOUR_API_KEY\"\n",
      "http://api.openweathermap.org/data/2.5/weather?units=imperial&q=igunga&appid=\"YOUR_API_KEY\"\n",
      "http://api.openweathermap.org/data/2.5/weather?units=imperial&q=tasiilaq&appid=\"YOUR_API_KEY\"\n",
      "http://api.openweathermap.org/data/2.5/weather?units=imperial&q=sernur&appid=\"YOUR_API_KEY\"\n",
      "http://api.openweathermap.org/data/2.5/weather?units=imperial&q=bluff&appid=\"YOUR_API_KEY\"\n",
      "http://api.openweathermap.org/data/2.5/weather?units=imperial&q=kavaratti&appid=\"YOUR_API_KEY\"\n"
     ]
    }
   ],
   "source": [
    "# weather API api.openweathermap.org/data/2.5/weather?q={city name}&appid={API key}\n",
    "\n",
    "url = 'http://api.openweathermap.org/data/2.5/weather?units=imperial&q='\n",
    "\n",
    "for index, city in enumerate(cities):\n",
    "    query_url = f'{url}{city}&appid={weather_api_key}'\n",
    "    if index < 30:\n",
    "        print(f'{url}{city}&appid=\"YOUR_API_KEY\"')"
   ]
  },
  {
   "cell_type": "markdown",
   "metadata": {
    "scrolled": true
   },
   "source": [
    "##### As can be seen in the previous cell, URLs with cities containing spaces are not working. Therefore I need to create new list of cities where spaces are replaced with a \"+\" sign.  For example http://api.openweathermap.org/data/2.5/weather?units=imperial&appid={API_Key}&q=San+Francisco works fine"
   ]
  },
  {
   "cell_type": "code",
   "execution_count": 4,
   "metadata": {
    "scrolled": true
   },
   "outputs": [
    {
     "data": {
      "text/plain": [
       "{'coord': {'lon': -52.73, 'lat': 47.67},\n",
       " 'weather': [{'id': 804,\n",
       "   'main': 'Clouds',\n",
       "   'description': 'overcast clouds',\n",
       "   'icon': '04d'}],\n",
       " 'base': 'stations',\n",
       " 'main': {'temp': 30.87,\n",
       "  'feels_like': 21.06,\n",
       "  'temp_min': 30,\n",
       "  'temp_max': 32,\n",
       "  'pressure': 1025,\n",
       "  'humidity': 74},\n",
       " 'visibility': 10000,\n",
       " 'wind': {'speed': 9.17, 'deg': 130},\n",
       " 'clouds': {'all': 90},\n",
       " 'dt': 1607879851,\n",
       " 'sys': {'type': 1,\n",
       "  'id': 998,\n",
       "  'country': 'CA',\n",
       "  'sunrise': 1607857895,\n",
       "  'sunset': 1607888356},\n",
       " 'timezone': -12600,\n",
       " 'id': 6167817,\n",
       " 'name': 'Torbay',\n",
       " 'cod': 200}"
      ]
     },
     "execution_count": 4,
     "metadata": {},
     "output_type": "execute_result"
    }
   ],
   "source": [
    "# replacing space with + in cities list\n",
    "cities_for_url = [x.replace(' ', '+') for x in cities]\n",
    "# grabing one record from the API to see what we are dealing with\n",
    "response_sample = requests.get(f'{url}{cities_for_url[0]}&appid={weather_api_key}').json()\n",
    "response_sample"
   ]
  },
  {
   "cell_type": "code",
   "execution_count": 5,
   "metadata": {},
   "outputs": [
    {
     "name": "stdout",
     "output_type": "stream",
     "text": [
      "<class 'dict'>\n",
      "dict_keys(['coord', 'weather', 'base', 'main', 'visibility', 'wind', 'clouds', 'dt', 'sys', 'timezone', 'id', 'name', 'cod'])\n",
      "1607879851\n"
     ]
    }
   ],
   "source": [
    "# seeing how to access data from the API response\n",
    "print(type(response_sample))\n",
    "print(response_sample.keys())\n",
    "print(response_sample['dt'])"
   ]
  },
  {
   "cell_type": "code",
   "execution_count": 6,
   "metadata": {},
   "outputs": [],
   "source": [
    "# set up lists to hold response info\n",
    "cities_from_API = []\n",
    "country = []\n",
    "max_temp = []\n",
    "humidity = []\n",
    "cloudiness = []\n",
    "wind_speed = []\n",
    "lat_from_API = []\n",
    "lon_from_API = []\n",
    "date = []\n"
   ]
  },
  {
   "cell_type": "code",
   "execution_count": 7,
   "metadata": {},
   "outputs": [
    {
     "name": "stdout",
     "output_type": "stream",
     "text": [
      "Beginning Data Retrieval\n",
      "______________________________________\n",
      "Processing Record 0 of 600 | Torbay\n",
      "Processing Record 1 of 600 | Licheng\n",
      "Processing Record 2 of 600 | Urzhum\n",
      "City not found. Skipping...\n",
      "Processing Record 4 of 600 | Etchoropo\n",
      "Processing Record 5 of 600 | Ushuaia\n",
      "Processing Record 6 of 600 | São João da Barra\n",
      "Processing Record 7 of 600 | Qui Nhon\n",
      "Processing Record 8 of 600 | Atuona\n",
      "Processing Record 9 of 600 | Nanortalik\n",
      "Processing Record 10 of 600 | Kamina\n",
      "Processing Record 11 of 600 | Dawei\n",
      "Processing Record 12 of 600 | Chui\n",
      "Processing Record 13 of 600 | Kaa-Khem\n",
      "Processing Record 14 of 600 | Kisaran\n",
      "City not found. Skipping...\n",
      "Processing Record 16 of 600 | Sucre\n",
      "Processing Record 17 of 600 | Qaanaaq\n",
      "Processing Record 18 of 600 | Saldanha\n",
      "Processing Record 19 of 600 | Saskylakh\n",
      "Processing Record 20 of 600 | Celestún\n",
      "Processing Record 21 of 600 | Douglas\n",
      "Processing Record 22 of 600 | Tagusao\n",
      "City not found. Skipping...\n",
      "Processing Record 24 of 600 | Busselton\n",
      "Processing Record 25 of 600 | Igunga\n",
      "Processing Record 26 of 600 | Tasiilaq\n",
      "Processing Record 27 of 600 | Sernur\n",
      "Processing Record 28 of 600 | Bluff\n",
      "Processing Record 29 of 600 | Kavaratti\n",
      "Processing Record 30 of 600 | Mataura\n",
      "Processing Record 31 of 600 | Port Alfred\n",
      "Processing Record 32 of 600 | Port Elizabeth\n",
      "Processing Record 33 of 600 | Punta Arenas\n",
      "Processing Record 34 of 600 | Lebu\n",
      "Processing Record 35 of 600 | Arraial do Cabo\n",
      "Processing Record 36 of 600 | Rikitea\n",
      "Processing Record 37 of 600 | Arman'\n",
      "Processing Record 38 of 600 | Gwadar\n",
      "Processing Record 39 of 600 | Khovd\n",
      "Processing Record 40 of 600 | Ponta do Sol\n",
      "Processing Record 41 of 600 | Provost\n",
      "Processing Record 42 of 600 | Hilo\n",
      "Processing Record 43 of 600 | Port Lincoln\n",
      "Processing Record 44 of 600 | Poum\n",
      "Processing Record 45 of 600 | San Quintín\n",
      "Processing Record 46 of 600 | Vaini\n",
      "Processing Record 47 of 600 | Camopi\n",
      "Processing Record 48 of 600 | Kruisfontein\n",
      "Processing Record 49 of 600 | Port Macquarie\n",
      "Processing Record 50 of 600 | San Patricio\n",
      "Processing Record 51 of 600 | Prince Rupert\n",
      "Processing Record 52 of 600 | Saint Paul Harbor\n",
      "Processing Record 53 of 600 | George Town\n",
      "Processing Record 54 of 600 | Pochutla\n",
      "Processing Record 55 of 600 | Puerto Ayora\n",
      "Processing Record 56 of 600 | Tanabe\n",
      "Processing Record 57 of 600 | Kapit\n",
      "Processing Record 58 of 600 | Havelock\n",
      "Processing Record 59 of 600 | Kapaa\n",
      "Processing Record 60 of 600 | Albany\n",
      "Processing Record 61 of 600 | Hermanus\n",
      "Processing Record 62 of 600 | Waldoboro\n",
      "Processing Record 63 of 600 | Kiryat Gat\n",
      "Processing Record 64 of 600 | Pisco\n",
      "Processing Record 65 of 600 | Kamenka\n",
      "Processing Record 66 of 600 | Aykhal\n",
      "Processing Record 67 of 600 | Arlit\n",
      "Processing Record 68 of 600 | Puerto Escondido\n",
      "Processing Record 69 of 600 | Aksarayskiy\n",
      "City not found. Skipping...\n",
      "Processing Record 71 of 600 | Ilhabela\n",
      "Processing Record 72 of 600 | Ilulissat\n",
      "Processing Record 73 of 600 | Jining\n",
      "Processing Record 74 of 600 | Itaituba\n",
      "Processing Record 75 of 600 | Severomuysk\n",
      "Processing Record 76 of 600 | Severo-Kuril'sk\n",
      "Processing Record 77 of 600 | Bereda\n",
      "Processing Record 78 of 600 | Monrovia\n",
      "Processing Record 79 of 600 | Butaritari\n",
      "Processing Record 80 of 600 | Cabo San Lucas\n",
      "Processing Record 81 of 600 | Ostrovnoy\n",
      "Processing Record 82 of 600 | Avarua\n",
      "Processing Record 83 of 600 | Bredasdorp\n",
      "Processing Record 84 of 600 | Mahébourg\n",
      "Processing Record 85 of 600 | Azare\n",
      "Processing Record 86 of 600 | Rio Grande\n",
      "Processing Record 87 of 600 | Tiksi\n",
      "Processing Record 88 of 600 | Goundi\n",
      "Processing Record 89 of 600 | Acaraú\n",
      "Processing Record 90 of 600 | Pangoa\n",
      "Processing Record 91 of 600 | Tshikapa\n",
      "Processing Record 92 of 600 | Fandriana\n",
      "Processing Record 93 of 600 | Coquimbo\n",
      "Processing Record 94 of 600 | Governador Valadares\n",
      "Processing Record 95 of 600 | Puerto Madryn\n",
      "Processing Record 96 of 600 | Killarney\n",
      "Processing Record 97 of 600 | Calderitas\n",
      "Processing Record 98 of 600 | Trairi\n",
      "Processing Record 99 of 600 | Pangnirtung\n",
      "Processing Record 100 of 600 | Provideniya\n",
      "Processing Record 101 of 600 | Beloha\n",
      "Processing Record 102 of 600 | Hofn\n",
      "Processing Record 103 of 600 | Mbala\n",
      "Processing Record 104 of 600 | Half Moon Bay\n",
      "Processing Record 105 of 600 | Ustyuzhna\n",
      "Processing Record 106 of 600 | Tegul'det\n",
      "Processing Record 107 of 600 | Arucas\n",
      "City not found. Skipping...\n",
      "Processing Record 109 of 600 | Linköping\n",
      "Processing Record 110 of 600 | Carnarvon\n",
      "Processing Record 111 of 600 | Longyearbyen\n",
      "Processing Record 112 of 600 | Castro\n",
      "Processing Record 113 of 600 | Zaysan\n",
      "City not found. Skipping...\n",
      "Processing Record 115 of 600 | Anadyr\n",
      "Processing Record 116 of 600 | Janaúba\n",
      "Processing Record 117 of 600 | Linjiang\n",
      "Processing Record 118 of 600 | Barrow\n",
      "Processing Record 119 of 600 | Hasaki\n",
      "City not found. Skipping...\n",
      "Processing Record 121 of 600 | Santa Maria\n",
      "Processing Record 122 of 600 | Ribera\n",
      "Processing Record 123 of 600 | Mar del Plata\n",
      "Processing Record 124 of 600 | Cape Town\n",
      "Processing Record 125 of 600 | Carutapera\n",
      "Processing Record 126 of 600 | Bandarbeyla\n",
      "Processing Record 127 of 600 | San Clemente\n",
      "Processing Record 128 of 600 | Saint-Philippe\n",
      "City not found. Skipping...\n",
      "Processing Record 130 of 600 | Bethel\n",
      "Processing Record 131 of 600 | Ayan\n",
      "Processing Record 132 of 600 | Inhambane\n",
      "Processing Record 133 of 600 | Thompson\n",
      "Processing Record 134 of 600 | Tsogni\n",
      "Processing Record 135 of 600 | Hobart\n",
      "Processing Record 136 of 600 | Vanimo\n",
      "City not found. Skipping...\n",
      "Processing Record 138 of 600 | Sungai Raya\n",
      "Processing Record 139 of 600 | Pizarro\n",
      "Processing Record 140 of 600 | Waingapu\n",
      "Processing Record 141 of 600 | Tarauacá\n",
      "Processing Record 142 of 600 | San Jose\n",
      "Processing Record 143 of 600 | Bubaque\n",
      "Processing Record 144 of 600 | Clyde River\n",
      "Processing Record 145 of 600 | Chilliwack\n",
      "Processing Record 146 of 600 | Avenal\n",
      "Processing Record 147 of 600 | Te Anau\n",
      "Processing Record 148 of 600 | New Norfolk\n",
      "Processing Record 149 of 600 | Shelburne\n",
      "Processing Record 150 of 600 | Turinsk\n",
      "City not found. Skipping...\n",
      "Processing Record 152 of 600 | Jimma\n",
      "Processing Record 153 of 600 | Novy Urengoy\n",
      "Processing Record 154 of 600 | Jimo\n",
      "Processing Record 155 of 600 | Kununurra\n",
      "Processing Record 156 of 600 | Viana\n",
      "Processing Record 157 of 600 | São Filipe\n",
      "Processing Record 158 of 600 | Arrondissement de Tulle\n",
      "City not found. Skipping...\n",
      "Processing Record 160 of 600 | Churapcha\n",
      "Processing Record 161 of 600 | Szczytno\n",
      "Processing Record 162 of 600 | Katherine\n",
      "City not found. Skipping...\n",
      "Processing Record 164 of 600 | Derzhavīnsk\n",
      "Processing Record 165 of 600 | Semnan\n",
      "Processing Record 166 of 600 | Nikolskoye\n",
      "Processing Record 167 of 600 | Soyo\n",
      "Processing Record 168 of 600 | Vao\n",
      "Processing Record 169 of 600 | Esim\n",
      "Processing Record 170 of 600 | Norman Wells\n",
      "Processing Record 171 of 600 | Ancud\n",
      "Processing Record 172 of 600 | Flin Flon\n",
      "Processing Record 173 of 600 | Waipawa\n",
      "Processing Record 174 of 600 | Hithadhoo\n",
      "Processing Record 175 of 600 | Ust'-Barguzin\n",
      "Processing Record 176 of 600 | Brae\n",
      "Processing Record 177 of 600 | Pawican\n",
      "Processing Record 178 of 600 | Pringsewu\n",
      "Processing Record 179 of 600 | Moerai\n",
      "Processing Record 180 of 600 | Portland\n",
      "Processing Record 181 of 600 | Cururupu\n",
      "Processing Record 182 of 600 | Byron Bay\n",
      "Processing Record 183 of 600 | Leningradskiy\n",
      "City not found. Skipping...\n",
      "Processing Record 185 of 600 | Mezhova\n",
      "Processing Record 186 of 600 | Rawson\n",
      "Processing Record 187 of 600 | Chapais\n",
      "Processing Record 188 of 600 | Geraldton\n",
      "Processing Record 189 of 600 | Cayenne\n",
      "City not found. Skipping...\n",
      "Processing Record 191 of 600 | Beremend\n",
      "Processing Record 192 of 600 | Fonte Boa\n",
      "Processing Record 193 of 600 | Dire Dawa\n",
      "Processing Record 194 of 600 | Sitka\n",
      "Processing Record 195 of 600 | Lunca\n",
      "Processing Record 196 of 600 | Kaitangata\n",
      "Processing Record 197 of 600 | Arona\n",
      "City not found. Skipping...\n",
      "Processing Record 199 of 600 | Touros\n",
      "Processing Record 200 of 600 | Anzio\n",
      "City not found. Skipping...\n",
      "Processing Record 202 of 600 | Palmas\n",
      "Processing Record 203 of 600 | Tual\n",
      "Processing Record 204 of 600 | Uberaba\n",
      "Processing Record 205 of 600 | Husavik\n",
      "City not found. Skipping...\n",
      "Processing Record 207 of 600 | Maniitsoq\n",
      "Processing Record 208 of 600 | Jamestown\n",
      "Processing Record 209 of 600 | Chokurdakh\n",
      "Processing Record 210 of 600 | Rodrigues Alves\n"
     ]
    },
    {
     "name": "stdout",
     "output_type": "stream",
     "text": [
      "Processing Record 211 of 600 | Djebeniana\n",
      "Processing Record 212 of 600 | Kumul\n",
      "Processing Record 213 of 600 | Giyani\n",
      "City not found. Skipping...\n",
      "Processing Record 215 of 600 | Lagoa\n",
      "Processing Record 216 of 600 | Ovada\n",
      "Processing Record 217 of 600 | Yellowknife\n",
      "Processing Record 218 of 600 | Haines Junction\n",
      "Processing Record 219 of 600 | Nakusp\n",
      "Processing Record 220 of 600 | Nara\n",
      "Processing Record 221 of 600 | Necochea\n",
      "Processing Record 222 of 600 | Klaksvík\n",
      "Processing Record 223 of 600 | Nísia Floresta\n",
      "City not found. Skipping...\n",
      "Processing Record 225 of 600 | Pitimbu\n",
      "Processing Record 226 of 600 | Kavieng\n",
      "City not found. Skipping...\n",
      "Processing Record 228 of 600 | Tsabong\n",
      "Processing Record 229 of 600 | Tateyama\n",
      "Processing Record 230 of 600 | Belaya Gora\n",
      "Processing Record 231 of 600 | Caravelas\n",
      "Processing Record 232 of 600 | Leer\n",
      "Processing Record 233 of 600 | Bambous Virieux\n",
      "Processing Record 234 of 600 | Tuktoyaktuk\n",
      "Processing Record 235 of 600 | Pyinmana\n",
      "Processing Record 236 of 600 | Upernavik\n",
      "Processing Record 237 of 600 | Whitley Bay\n",
      "City not found. Skipping...\n",
      "Processing Record 239 of 600 | Port Hedland\n",
      "Processing Record 240 of 600 | Vila Franca do Campo\n",
      "Processing Record 241 of 600 | Bila Krynytsya\n",
      "Processing Record 242 of 600 | Guerrero Negro\n",
      "Processing Record 243 of 600 | Vostok\n",
      "Processing Record 244 of 600 | Codrington\n",
      "Processing Record 245 of 600 | Constitución\n",
      "Processing Record 246 of 600 | Cidreira\n",
      "Processing Record 247 of 600 | Ribeira Grande\n",
      "City not found. Skipping...\n",
      "City not found. Skipping...\n",
      "Processing Record 250 of 600 | Russell\n",
      "Processing Record 251 of 600 | Margate\n",
      "Processing Record 252 of 600 | Shenjiamen\n",
      "City not found. Skipping...\n",
      "Processing Record 254 of 600 | Grindavik\n",
      "Processing Record 255 of 600 | George Town\n",
      "Processing Record 256 of 600 | Fethiye\n",
      "City not found. Skipping...\n",
      "Processing Record 258 of 600 | Aksarka\n",
      "Processing Record 259 of 600 | Pinehurst\n",
      "Processing Record 260 of 600 | Coyhaique\n",
      "Processing Record 261 of 600 | Henderson\n",
      "Processing Record 262 of 600 | Lata\n",
      "Processing Record 263 of 600 | Moose Factory\n",
      "Processing Record 264 of 600 | Plymouth\n",
      "Processing Record 265 of 600 | Uyskoye\n",
      "Processing Record 266 of 600 | Kalmunai\n",
      "Processing Record 267 of 600 | Kearney\n",
      "City not found. Skipping...\n",
      "Processing Record 269 of 600 | Hualmay\n",
      "Processing Record 270 of 600 | Sabaudia\n",
      "Processing Record 271 of 600 | Sinnamary\n",
      "Processing Record 272 of 600 | Sergeevka\n",
      "Processing Record 273 of 600 | Muros\n",
      "Processing Record 274 of 600 | Mount Gambier\n",
      "Processing Record 275 of 600 | Faanui\n",
      "Processing Record 276 of 600 | Bolobo\n",
      "Processing Record 277 of 600 | Asău\n",
      "Processing Record 278 of 600 | Ust-Maya\n",
      "Processing Record 279 of 600 | Kołobrzeg\n",
      "Processing Record 280 of 600 | Airai\n",
      "Processing Record 281 of 600 | Talnakh\n",
      "Processing Record 282 of 600 | Payson\n",
      "Processing Record 283 of 600 | Fort Nelson\n",
      "Processing Record 284 of 600 | Coahuayana Viejo\n",
      "Processing Record 285 of 600 | Nome\n",
      "Processing Record 286 of 600 | Isla Vista\n",
      "Processing Record 287 of 600 | Charters Towers\n",
      "Processing Record 288 of 600 | Grand Gaube\n",
      "Processing Record 289 of 600 | Chandler\n",
      "City not found. Skipping...\n",
      "Processing Record 291 of 600 | Chongoyape\n",
      "City not found. Skipping...\n",
      "Processing Record 293 of 600 | Lüderitz\n",
      "Processing Record 294 of 600 | Bengkulu\n",
      "Processing Record 295 of 600 | College\n",
      "Processing Record 296 of 600 | San-Pédro\n",
      "Processing Record 297 of 600 | Graaff-Reinet\n",
      "Processing Record 298 of 600 | Karabulak\n",
      "Processing Record 299 of 600 | Tomigusuku\n",
      "Processing Record 300 of 600 | Barcelos\n",
      "Processing Record 301 of 600 | Sola\n",
      "Processing Record 302 of 600 | Yangi Marg`ilon\n",
      "Processing Record 303 of 600 | Ust-Kuyga\n",
      "Processing Record 304 of 600 | Lima\n",
      "Processing Record 305 of 600 | Kahului\n",
      "Processing Record 306 of 600 | Wanning\n",
      "City not found. Skipping...\n",
      "Processing Record 308 of 600 | Sorong\n",
      "Processing Record 309 of 600 | São José da Coroa Grande\n",
      "Processing Record 310 of 600 | Ouadda\n",
      "Processing Record 311 of 600 | Narsaq\n",
      "Processing Record 312 of 600 | Aberdeen\n",
      "Processing Record 313 of 600 | General Cepeda\n",
      "Processing Record 314 of 600 | Silver City\n",
      "Processing Record 315 of 600 | Valparaíso\n",
      "Processing Record 316 of 600 | Nagarote\n",
      "Processing Record 317 of 600 | East London\n",
      "Processing Record 318 of 600 | Colac\n",
      "Processing Record 319 of 600 | Tessalit\n",
      "Processing Record 320 of 600 | Westport\n",
      "Processing Record 321 of 600 | Itarema\n",
      "Processing Record 322 of 600 | Tuusula\n",
      "Processing Record 323 of 600 | Abbeville\n",
      "Processing Record 324 of 600 | Ismailia\n",
      "City not found. Skipping...\n",
      "Processing Record 326 of 600 | Øksfjord\n",
      "Processing Record 327 of 600 | Guamúchil\n",
      "Processing Record 328 of 600 | Galveston\n",
      "Processing Record 329 of 600 | Evensk\n",
      "Processing Record 330 of 600 | Maicao\n",
      "Processing Record 331 of 600 | ‘Āhuimanu\n",
      "Processing Record 332 of 600 | Mokhsogollokh\n",
      "Processing Record 333 of 600 | Aquin\n",
      "Processing Record 334 of 600 | Salalah\n",
      "Processing Record 335 of 600 | Olafsvik\n",
      "Processing Record 336 of 600 | Sandakan\n",
      "Processing Record 337 of 600 | Praia\n",
      "Processing Record 338 of 600 | São João do Paraíso\n",
      "Processing Record 339 of 600 | Kantang\n",
      "Processing Record 340 of 600 | Gubskaya\n",
      "Processing Record 341 of 600 | Kabinda\n",
      "Processing Record 342 of 600 | Tura\n",
      "Processing Record 343 of 600 | São Miguel do Araguaia\n",
      "Processing Record 344 of 600 | Sun Valley\n",
      "Processing Record 345 of 600 | Zhigansk\n",
      "Processing Record 346 of 600 | Namatanai\n",
      "Processing Record 347 of 600 | Lakatoro\n",
      "Processing Record 348 of 600 | Tuatapere\n",
      "Processing Record 349 of 600 | Pandan\n",
      "Processing Record 350 of 600 | Kasongo-Lunda\n",
      "Processing Record 351 of 600 | Sedalia\n",
      "City not found. Skipping...\n",
      "Processing Record 353 of 600 | Kanigiri\n",
      "Processing Record 354 of 600 | Ormara\n",
      "Processing Record 355 of 600 | Paamiut\n",
      "Processing Record 356 of 600 | Lakes Entrance\n",
      "Processing Record 357 of 600 | Rantauprapat\n",
      "Processing Record 358 of 600 | Lavrentiya\n",
      "Processing Record 359 of 600 | Port Hawkesbury\n",
      "Processing Record 360 of 600 | Noril'sk\n",
      "Processing Record 361 of 600 | Gamba\n",
      "City not found. Skipping...\n",
      "Processing Record 363 of 600 | Gafanha da Encarnação\n",
      "Processing Record 364 of 600 | Isangel\n",
      "Processing Record 365 of 600 | Kohima\n",
      "Processing Record 366 of 600 | Teya\n",
      "City not found. Skipping...\n",
      "Processing Record 368 of 600 | Sonoita\n",
      "Processing Record 369 of 600 | Saint Anthony\n",
      "Processing Record 370 of 600 | Chiredzi\n",
      "Processing Record 371 of 600 | Burnie\n",
      "Processing Record 372 of 600 | Cochabamba\n",
      "Processing Record 373 of 600 | Hurricane\n",
      "Processing Record 374 of 600 | Freetown\n",
      "Processing Record 375 of 600 | Xapuri\n",
      "Processing Record 376 of 600 | Pilar\n",
      "Processing Record 377 of 600 | Nkoteng\n",
      "Processing Record 378 of 600 | Yar-Sale\n",
      "Processing Record 379 of 600 | Dubuque\n",
      "Processing Record 380 of 600 | Koutiala\n",
      "Processing Record 381 of 600 | Pierre\n",
      "Processing Record 382 of 600 | San Cristobal\n",
      "Processing Record 383 of 600 | Puerto Princesa City\n",
      "Processing Record 384 of 600 | Saint George\n",
      "Processing Record 385 of 600 | Burgeo\n",
      "Processing Record 386 of 600 | Atasū\n",
      "Processing Record 387 of 600 | Gaoual\n",
      "Processing Record 388 of 600 | Kathu\n",
      "Processing Record 389 of 600 | Richards Bay\n",
      "Processing Record 390 of 600 | Salinópolis\n",
      "Processing Record 391 of 600 | Hong Kong\n",
      "Processing Record 392 of 600 | Tabas\n",
      "Processing Record 393 of 600 | Latung\n",
      "Processing Record 394 of 600 | Touho\n",
      "Processing Record 395 of 600 | Breves\n",
      "Processing Record 396 of 600 | Esperance\n",
      "Processing Record 397 of 600 | Zyryanka\n",
      "Processing Record 398 of 600 | Dikson\n",
      "Processing Record 399 of 600 | Solnechnogorsk\n",
      "Processing Record 400 of 600 | Cherskiy\n",
      "Processing Record 401 of 600 | Llanes\n",
      "Processing Record 402 of 600 | Iqaluit\n",
      "Processing Record 403 of 600 | Keti Bandar\n",
      "Processing Record 404 of 600 | Eirunepé\n",
      "Processing Record 405 of 600 | Nouadhibou\n",
      "Processing Record 406 of 600 | Cortes\n",
      "Processing Record 407 of 600 | Shumerlya\n",
      "Processing Record 408 of 600 | Aklavik\n",
      "Processing Record 409 of 600 | Lensk\n",
      "Processing Record 410 of 600 | Berlevåg\n",
      "Processing Record 411 of 600 | Fayetteville\n",
      "Processing Record 412 of 600 | Oranjemund\n",
      "Processing Record 413 of 600 | Tiznit Province\n",
      "Processing Record 414 of 600 | Sainte-Marie\n",
      "Processing Record 415 of 600 | Kamaishi\n",
      "Processing Record 416 of 600 | Saint-Augustin\n",
      "Processing Record 417 of 600 | Pala\n"
     ]
    },
    {
     "name": "stdout",
     "output_type": "stream",
     "text": [
      "Processing Record 418 of 600 | Pevek\n",
      "Processing Record 419 of 600 | Zhoucheng\n",
      "Processing Record 420 of 600 | Pointe Michel\n",
      "Processing Record 421 of 600 | San Juan de los Morros\n",
      "Processing Record 422 of 600 | Ipiaú\n",
      "Processing Record 423 of 600 | Bonavista\n",
      "Processing Record 424 of 600 | Safaga\n",
      "Processing Record 425 of 600 | Flinders\n",
      "Processing Record 426 of 600 | Tilichiki\n",
      "Processing Record 427 of 600 | Fairbanks\n",
      "Processing Record 428 of 600 | Indianola\n",
      "Processing Record 429 of 600 | Sur\n",
      "Processing Record 430 of 600 | Zhezkazgan\n",
      "Processing Record 431 of 600 | Ntcheu\n",
      "Processing Record 432 of 600 | Yulara\n",
      "Processing Record 433 of 600 | Morondava\n",
      "Processing Record 434 of 600 | Lompoc\n",
      "Processing Record 435 of 600 | Nuevo Progreso\n",
      "Processing Record 436 of 600 | Lagos\n",
      "Processing Record 437 of 600 | Dargaville\n",
      "Processing Record 438 of 600 | Banda Aceh\n",
      "City not found. Skipping...\n",
      "Processing Record 440 of 600 | Oga\n",
      "Processing Record 441 of 600 | Moa\n",
      "City not found. Skipping...\n",
      "Processing Record 443 of 600 | Vila Velha\n",
      "Processing Record 444 of 600 | Nkhata Bay\n",
      "Processing Record 445 of 600 | Bathsheba\n",
      "Processing Record 446 of 600 | Laas\n",
      "Processing Record 447 of 600 | Xaçmaz\n",
      "Processing Record 448 of 600 | Hirara\n",
      "City not found. Skipping...\n",
      "Processing Record 450 of 600 | Padang\n",
      "Processing Record 451 of 600 | Lichuan\n",
      "Processing Record 452 of 600 | Nong Kung Si\n",
      "Processing Record 453 of 600 | Iquique\n",
      "Processing Record 454 of 600 | Hokitika\n",
      "Processing Record 455 of 600 | Oistins\n",
      "Processing Record 456 of 600 | Whitehorse\n",
      "Processing Record 457 of 600 | Beringovskiy\n",
      "Processing Record 458 of 600 | Kobryn\n",
      "Processing Record 459 of 600 | Malakal\n",
      "Processing Record 460 of 600 | Los Llanos de Aridane\n",
      "Processing Record 461 of 600 | Hailar\n",
      "Processing Record 462 of 600 | Loikaw\n",
      "Processing Record 463 of 600 | Yumen\n",
      "City not found. Skipping...\n",
      "Processing Record 465 of 600 | Vidra\n",
      "Processing Record 466 of 600 | Merauke\n",
      "Processing Record 467 of 600 | Vestmannaeyjar\n",
      "Processing Record 468 of 600 | San Matías\n",
      "Processing Record 469 of 600 | Irecê\n",
      "Processing Record 470 of 600 | Armilla\n",
      "Processing Record 471 of 600 | Manga\n",
      "Processing Record 472 of 600 | Pucara\n",
      "Processing Record 473 of 600 | Camacupa\n",
      "Processing Record 474 of 600 | Santiago del Estero\n",
      "Processing Record 475 of 600 | Verkhnyaya Inta\n",
      "Processing Record 476 of 600 | Nikšić\n",
      "Processing Record 477 of 600 | Naze\n",
      "Processing Record 478 of 600 | Finote Selam\n",
      "Processing Record 479 of 600 | Azuaga\n",
      "Processing Record 480 of 600 | Antu\n",
      "City not found. Skipping...\n",
      "Processing Record 482 of 600 | Mnogovershinnyy\n",
      "Processing Record 483 of 600 | Manjeri\n",
      "City not found. Skipping...\n",
      "Processing Record 485 of 600 | Saint-François\n",
      "Processing Record 486 of 600 | Vardø\n",
      "Processing Record 487 of 600 | Khatanga\n",
      "Processing Record 488 of 600 | Makkah al Mukarramah\n",
      "Processing Record 489 of 600 | Luyang\n",
      "City not found. Skipping...\n",
      "Processing Record 491 of 600 | Ahipara\n",
      "Processing Record 492 of 600 | Cockburn Town\n",
      "Processing Record 493 of 600 | Winchester\n",
      "Processing Record 494 of 600 | Port Blair\n",
      "Processing Record 495 of 600 | Boden\n",
      "Processing Record 496 of 600 | Vanavara\n",
      "Processing Record 497 of 600 | Eyl\n",
      "Processing Record 498 of 600 | Sangmélima\n",
      "Processing Record 499 of 600 | Vágur\n",
      "Processing Record 500 of 600 | Peqin\n",
      "Processing Record 501 of 600 | Bitung\n",
      "Processing Record 502 of 600 | Northam\n",
      "Processing Record 503 of 600 | Tupik\n",
      "Processing Record 504 of 600 | Uray\n",
      "Processing Record 505 of 600 | Sakhnovshchyna\n",
      "City not found. Skipping...\n",
      "Processing Record 507 of 600 | Fuxin\n",
      "Processing Record 508 of 600 | High Level\n",
      "Processing Record 509 of 600 | Honningsvåg\n",
      "City not found. Skipping...\n",
      "Processing Record 511 of 600 | Sechura\n",
      "Processing Record 512 of 600 | Mogadishu\n",
      "Processing Record 513 of 600 | Thunder Bay\n",
      "Processing Record 514 of 600 | Alice Springs\n",
      "Processing Record 515 of 600 | Samarai\n",
      "Processing Record 516 of 600 | Sobolevo\n",
      "Processing Record 517 of 600 | Nishihara\n",
      "Processing Record 518 of 600 | Great Yarmouth\n",
      "Processing Record 519 of 600 | Chauk\n",
      "Processing Record 520 of 600 | Narrabri\n",
      "Processing Record 521 of 600 | Kaili\n",
      "Processing Record 522 of 600 | Ambilobe\n",
      "Processing Record 523 of 600 | Homer\n",
      "Processing Record 524 of 600 | Itoman\n",
      "Processing Record 525 of 600 | Härnösand\n",
      "Processing Record 526 of 600 | Kungurtug\n",
      "Processing Record 527 of 600 | Mumford\n",
      "Processing Record 528 of 600 | Kédougou\n",
      "Processing Record 529 of 600 | Bonito Oriental\n",
      "Processing Record 530 of 600 | Stromness\n",
      "City not found. Skipping...\n",
      "Processing Record 532 of 600 | Kristiansund\n",
      "Processing Record 533 of 600 | Nortelândia\n",
      "Processing Record 534 of 600 | Boende\n",
      "City not found. Skipping...\n",
      "Processing Record 536 of 600 | Horadiz\n",
      "Processing Record 537 of 600 | Ola\n",
      "Processing Record 538 of 600 | Terråk\n",
      "Processing Record 539 of 600 | Khandagayty\n",
      "Processing Record 540 of 600 | Porto-Novo\n",
      "Processing Record 541 of 600 | Marzuq\n",
      "Processing Record 542 of 600 | Nuuk\n",
      "Processing Record 543 of 600 | Nelson Bay\n",
      "Processing Record 544 of 600 | Ol'ga\n",
      "Processing Record 545 of 600 | Esso\n",
      "Processing Record 546 of 600 | Alta Floresta\n",
      "Processing Record 547 of 600 | Riverton\n",
      "Processing Record 548 of 600 | Krasnoarmiys'k\n",
      "Processing Record 549 of 600 | Rypefjord\n",
      "Processing Record 550 of 600 | Red Bluff\n",
      "Processing Record 551 of 600 | Ilebo\n",
      "Processing Record 552 of 600 | Ambulu\n",
      "Processing Record 553 of 600 | Egvekinot\n",
      "Processing Record 554 of 600 | Qaqortoq\n",
      "Processing Record 555 of 600 | Urengoy\n",
      "Processing Record 556 of 600 | Iwanai\n",
      "Processing Record 557 of 600 | Iturama\n",
      "Processing Record 558 of 600 | Shaoyang\n",
      "Processing Record 559 of 600 | Serramanna\n",
      "Processing Record 560 of 600 | Hambantota\n",
      "Processing Record 561 of 600 | Zheleznodorozhnyy\n",
      "Processing Record 562 of 600 | Derazhnya\n",
      "Processing Record 563 of 600 | Jumla\n",
      "Processing Record 564 of 600 | Goya\n",
      "Processing Record 565 of 600 | Sovetskiy\n",
      "Processing Record 566 of 600 | Havre-St-Pierre\n",
      "Processing Record 567 of 600 | Praia da Vitória\n",
      "Processing Record 568 of 600 | Saint-Pierre\n",
      "Processing Record 569 of 600 | Kualakapuas\n",
      "Processing Record 570 of 600 | Rochegda\n",
      "Processing Record 571 of 600 | Siilinjärvi\n",
      "Processing Record 572 of 600 | İdil\n",
      "Processing Record 573 of 600 | Namtsy\n",
      "Processing Record 574 of 600 | Pangkalanbuun\n",
      "Processing Record 575 of 600 | Teahupoo\n",
      "Processing Record 576 of 600 | Walvis Bay\n",
      "City not found. Skipping...\n",
      "City not found. Skipping...\n",
      "Processing Record 579 of 600 | Kidal\n",
      "Processing Record 580 of 600 | Córdoba\n",
      "Processing Record 581 of 600 | Yur’yevets\n",
      "Processing Record 582 of 600 | Villanueva\n",
      "Processing Record 583 of 600 | Mossamedes\n",
      "Processing Record 584 of 600 | Istiaia\n",
      "Processing Record 585 of 600 | Apolda\n",
      "Processing Record 586 of 600 | Deputatsky\n",
      "City not found. Skipping...\n",
      "Processing Record 588 of 600 | Owando\n",
      "Processing Record 589 of 600 | Rusera\n",
      "Processing Record 590 of 600 | Dickinson\n",
      "Processing Record 591 of 600 | Pacific Grove\n",
      "Processing Record 592 of 600 | Lyuban'\n",
      "Processing Record 593 of 600 | Pelym\n",
      "Processing Record 594 of 600 | Escanaba\n",
      "Processing Record 595 of 600 | Manaus\n",
      "Processing Record 596 of 600 | Burmakino\n",
      "City not found. Skipping...\n",
      "City not found. Skipping...\n",
      "Processing Record 599 of 600 | Laguna\n"
     ]
    }
   ],
   "source": [
    "print('Beginning Data Retrieval')\n",
    "print('______________________________________')\n",
    "    \n",
    "for index, city in enumerate(cities_for_url):\n",
    "    query_url = f'{url}{city}&appid={weather_api_key}'\n",
    "    \n",
    "    try:\n",
    "        response = requests.get(query_url).json()\n",
    "        cities_from_API.append(response['name'])\n",
    "        country.append(response['sys']['country'])\n",
    "        max_temp.append(response['main']['temp_max'])\n",
    "        humidity.append(response['main']['humidity'])\n",
    "        cloudiness.append(response['clouds']['all'])\n",
    "        wind_speed.append(response['wind']['speed'])\n",
    "        lat_from_API.append(response['coord']['lat'])\n",
    "        lon_from_API.append(response['coord']['lon'])\n",
    "        date.append(response['dt'])\n",
    "        print(f\"Processing Record {index} of {len(cities_for_url)} | {response['name']}\")\n",
    "    \n",
    "    except KeyError:\n",
    "        print('City not found. Skipping...')\n",
    "\n"
   ]
  },
  {
   "cell_type": "markdown",
   "metadata": {},
   "source": [
    "### Convert Raw Data to DataFrame\n",
    "* Export the city data into a .csv.\n",
    "* Display the DataFrame"
   ]
  },
  {
   "cell_type": "code",
   "execution_count": 8,
   "metadata": {
    "scrolled": true
   },
   "outputs": [
    {
     "data": {
      "text/html": [
       "<div>\n",
       "<style scoped>\n",
       "    .dataframe tbody tr th:only-of-type {\n",
       "        vertical-align: middle;\n",
       "    }\n",
       "\n",
       "    .dataframe tbody tr th {\n",
       "        vertical-align: top;\n",
       "    }\n",
       "\n",
       "    .dataframe thead th {\n",
       "        text-align: right;\n",
       "    }\n",
       "</style>\n",
       "<table border=\"1\" class=\"dataframe\">\n",
       "  <thead>\n",
       "    <tr style=\"text-align: right;\">\n",
       "      <th></th>\n",
       "      <th>city</th>\n",
       "      <th>country</th>\n",
       "      <th>max_temp</th>\n",
       "      <th>humidity</th>\n",
       "      <th>cloudiness</th>\n",
       "      <th>wind_speed</th>\n",
       "      <th>lat</th>\n",
       "      <th>lon</th>\n",
       "      <th>date</th>\n",
       "    </tr>\n",
       "  </thead>\n",
       "  <tbody>\n",
       "    <tr>\n",
       "      <th>0</th>\n",
       "      <td>Torbay</td>\n",
       "      <td>CA</td>\n",
       "      <td>32.00</td>\n",
       "      <td>74</td>\n",
       "      <td>90</td>\n",
       "      <td>9.17</td>\n",
       "      <td>47.67</td>\n",
       "      <td>-52.73</td>\n",
       "      <td>1607879851</td>\n",
       "    </tr>\n",
       "    <tr>\n",
       "      <th>1</th>\n",
       "      <td>Licheng</td>\n",
       "      <td>CN</td>\n",
       "      <td>73.00</td>\n",
       "      <td>88</td>\n",
       "      <td>90</td>\n",
       "      <td>8.95</td>\n",
       "      <td>23.30</td>\n",
       "      <td>113.83</td>\n",
       "      <td>1607879717</td>\n",
       "    </tr>\n",
       "    <tr>\n",
       "      <th>2</th>\n",
       "      <td>Urzhum</td>\n",
       "      <td>RU</td>\n",
       "      <td>8.67</td>\n",
       "      <td>94</td>\n",
       "      <td>68</td>\n",
       "      <td>6.29</td>\n",
       "      <td>57.11</td>\n",
       "      <td>50.00</td>\n",
       "      <td>1607879874</td>\n",
       "    </tr>\n",
       "    <tr>\n",
       "      <th>3</th>\n",
       "      <td>Etchoropo</td>\n",
       "      <td>MX</td>\n",
       "      <td>66.99</td>\n",
       "      <td>64</td>\n",
       "      <td>0</td>\n",
       "      <td>3.00</td>\n",
       "      <td>26.77</td>\n",
       "      <td>-109.67</td>\n",
       "      <td>1607879874</td>\n",
       "    </tr>\n",
       "    <tr>\n",
       "      <th>4</th>\n",
       "      <td>Ushuaia</td>\n",
       "      <td>AR</td>\n",
       "      <td>46.40</td>\n",
       "      <td>70</td>\n",
       "      <td>75</td>\n",
       "      <td>13.87</td>\n",
       "      <td>-54.80</td>\n",
       "      <td>-68.30</td>\n",
       "      <td>1607879874</td>\n",
       "    </tr>\n",
       "    <tr>\n",
       "      <th>...</th>\n",
       "      <td>...</td>\n",
       "      <td>...</td>\n",
       "      <td>...</td>\n",
       "      <td>...</td>\n",
       "      <td>...</td>\n",
       "      <td>...</td>\n",
       "      <td>...</td>\n",
       "      <td>...</td>\n",
       "      <td>...</td>\n",
       "    </tr>\n",
       "    <tr>\n",
       "      <th>546</th>\n",
       "      <td>Pelym</td>\n",
       "      <td>RU</td>\n",
       "      <td>18.64</td>\n",
       "      <td>91</td>\n",
       "      <td>98</td>\n",
       "      <td>7.20</td>\n",
       "      <td>61.01</td>\n",
       "      <td>62.00</td>\n",
       "      <td>1607879941</td>\n",
       "    </tr>\n",
       "    <tr>\n",
       "      <th>547</th>\n",
       "      <td>Escanaba</td>\n",
       "      <td>US</td>\n",
       "      <td>24.80</td>\n",
       "      <td>73</td>\n",
       "      <td>90</td>\n",
       "      <td>3.36</td>\n",
       "      <td>45.75</td>\n",
       "      <td>-87.06</td>\n",
       "      <td>1607879941</td>\n",
       "    </tr>\n",
       "    <tr>\n",
       "      <th>548</th>\n",
       "      <td>Manaus</td>\n",
       "      <td>BR</td>\n",
       "      <td>89.60</td>\n",
       "      <td>66</td>\n",
       "      <td>40</td>\n",
       "      <td>3.36</td>\n",
       "      <td>-3.10</td>\n",
       "      <td>-60.02</td>\n",
       "      <td>1607879941</td>\n",
       "    </tr>\n",
       "    <tr>\n",
       "      <th>549</th>\n",
       "      <td>Burmakino</td>\n",
       "      <td>RU</td>\n",
       "      <td>21.20</td>\n",
       "      <td>73</td>\n",
       "      <td>90</td>\n",
       "      <td>8.95</td>\n",
       "      <td>57.42</td>\n",
       "      <td>40.24</td>\n",
       "      <td>1607879942</td>\n",
       "    </tr>\n",
       "    <tr>\n",
       "      <th>550</th>\n",
       "      <td>Laguna</td>\n",
       "      <td>US</td>\n",
       "      <td>50.00</td>\n",
       "      <td>87</td>\n",
       "      <td>90</td>\n",
       "      <td>11.41</td>\n",
       "      <td>38.42</td>\n",
       "      <td>-121.42</td>\n",
       "      <td>1607879639</td>\n",
       "    </tr>\n",
       "  </tbody>\n",
       "</table>\n",
       "<p>551 rows × 9 columns</p>\n",
       "</div>"
      ],
      "text/plain": [
       "          city country  max_temp  humidity  cloudiness  wind_speed    lat  \\\n",
       "0       Torbay      CA     32.00        74          90        9.17  47.67   \n",
       "1      Licheng      CN     73.00        88          90        8.95  23.30   \n",
       "2       Urzhum      RU      8.67        94          68        6.29  57.11   \n",
       "3    Etchoropo      MX     66.99        64           0        3.00  26.77   \n",
       "4      Ushuaia      AR     46.40        70          75       13.87 -54.80   \n",
       "..         ...     ...       ...       ...         ...         ...    ...   \n",
       "546      Pelym      RU     18.64        91          98        7.20  61.01   \n",
       "547   Escanaba      US     24.80        73          90        3.36  45.75   \n",
       "548     Manaus      BR     89.60        66          40        3.36  -3.10   \n",
       "549  Burmakino      RU     21.20        73          90        8.95  57.42   \n",
       "550     Laguna      US     50.00        87          90       11.41  38.42   \n",
       "\n",
       "        lon        date  \n",
       "0    -52.73  1607879851  \n",
       "1    113.83  1607879717  \n",
       "2     50.00  1607879874  \n",
       "3   -109.67  1607879874  \n",
       "4    -68.30  1607879874  \n",
       "..      ...         ...  \n",
       "546   62.00  1607879941  \n",
       "547  -87.06  1607879941  \n",
       "548  -60.02  1607879941  \n",
       "549   40.24  1607879942  \n",
       "550 -121.42  1607879639  \n",
       "\n",
       "[551 rows x 9 columns]"
      ]
     },
     "execution_count": 8,
     "metadata": {},
     "output_type": "execute_result"
    }
   ],
   "source": [
    "# assembling the lists into DataFrame\n",
    "cities_weather_df = pd.DataFrame({\n",
    "    \"city\" : cities_from_API,\n",
    "    \"country\": country,\n",
    "    \"max_temp\" : max_temp,\n",
    "    \"humidity\" : humidity,\n",
    "    \"cloudiness\" : cloudiness,\n",
    "    \"wind_speed\" : wind_speed,\n",
    "    \"lat\" : lat_from_API,\n",
    "    \"lon\" : lon_from_API,\n",
    "    \"date\": date\n",
    "})\n",
    "cities_weather_df\n"
   ]
  },
  {
   "cell_type": "code",
   "execution_count": 9,
   "metadata": {},
   "outputs": [
    {
     "data": {
      "text/html": [
       "<div>\n",
       "<style scoped>\n",
       "    .dataframe tbody tr th:only-of-type {\n",
       "        vertical-align: middle;\n",
       "    }\n",
       "\n",
       "    .dataframe tbody tr th {\n",
       "        vertical-align: top;\n",
       "    }\n",
       "\n",
       "    .dataframe thead th {\n",
       "        text-align: right;\n",
       "    }\n",
       "</style>\n",
       "<table border=\"1\" class=\"dataframe\">\n",
       "  <thead>\n",
       "    <tr style=\"text-align: right;\">\n",
       "      <th></th>\n",
       "      <th>max_temp</th>\n",
       "      <th>humidity</th>\n",
       "      <th>cloudiness</th>\n",
       "      <th>wind_speed</th>\n",
       "      <th>lat</th>\n",
       "      <th>lon</th>\n",
       "      <th>date</th>\n",
       "    </tr>\n",
       "  </thead>\n",
       "  <tbody>\n",
       "    <tr>\n",
       "      <th>count</th>\n",
       "      <td>551.000000</td>\n",
       "      <td>551.000000</td>\n",
       "      <td>551.000000</td>\n",
       "      <td>551.000000</td>\n",
       "      <td>551.000000</td>\n",
       "      <td>551.000000</td>\n",
       "      <td>5.510000e+02</td>\n",
       "    </tr>\n",
       "    <tr>\n",
       "      <th>mean</th>\n",
       "      <td>51.955953</td>\n",
       "      <td>73.431942</td>\n",
       "      <td>56.813067</td>\n",
       "      <td>8.974537</td>\n",
       "      <td>21.053902</td>\n",
       "      <td>14.346207</td>\n",
       "      <td>1.607880e+09</td>\n",
       "    </tr>\n",
       "    <tr>\n",
       "      <th>std</th>\n",
       "      <td>32.185658</td>\n",
       "      <td>19.734566</td>\n",
       "      <td>37.834802</td>\n",
       "      <td>6.818956</td>\n",
       "      <td>33.558862</td>\n",
       "      <td>89.698730</td>\n",
       "      <td>1.391003e+02</td>\n",
       "    </tr>\n",
       "    <tr>\n",
       "      <th>min</th>\n",
       "      <td>-49.760000</td>\n",
       "      <td>1.000000</td>\n",
       "      <td>0.000000</td>\n",
       "      <td>0.220000</td>\n",
       "      <td>-54.800000</td>\n",
       "      <td>-179.170000</td>\n",
       "      <td>1.607879e+09</td>\n",
       "    </tr>\n",
       "    <tr>\n",
       "      <th>25%</th>\n",
       "      <td>31.990000</td>\n",
       "      <td>65.000000</td>\n",
       "      <td>20.000000</td>\n",
       "      <td>4.025000</td>\n",
       "      <td>-6.445000</td>\n",
       "      <td>-59.525000</td>\n",
       "      <td>1.607880e+09</td>\n",
       "    </tr>\n",
       "    <tr>\n",
       "      <th>50%</th>\n",
       "      <td>62.170000</td>\n",
       "      <td>78.000000</td>\n",
       "      <td>72.000000</td>\n",
       "      <td>7.000000</td>\n",
       "      <td>25.520000</td>\n",
       "      <td>16.430000</td>\n",
       "      <td>1.607880e+09</td>\n",
       "    </tr>\n",
       "    <tr>\n",
       "      <th>75%</th>\n",
       "      <td>77.825000</td>\n",
       "      <td>88.000000</td>\n",
       "      <td>90.000000</td>\n",
       "      <td>12.030000</td>\n",
       "      <td>50.240000</td>\n",
       "      <td>94.425000</td>\n",
       "      <td>1.607880e+09</td>\n",
       "    </tr>\n",
       "    <tr>\n",
       "      <th>max</th>\n",
       "      <td>100.400000</td>\n",
       "      <td>100.000000</td>\n",
       "      <td>100.000000</td>\n",
       "      <td>60.620000</td>\n",
       "      <td>78.220000</td>\n",
       "      <td>179.320000</td>\n",
       "      <td>1.607880e+09</td>\n",
       "    </tr>\n",
       "  </tbody>\n",
       "</table>\n",
       "</div>"
      ],
      "text/plain": [
       "         max_temp    humidity  cloudiness  wind_speed         lat         lon  \\\n",
       "count  551.000000  551.000000  551.000000  551.000000  551.000000  551.000000   \n",
       "mean    51.955953   73.431942   56.813067    8.974537   21.053902   14.346207   \n",
       "std     32.185658   19.734566   37.834802    6.818956   33.558862   89.698730   \n",
       "min    -49.760000    1.000000    0.000000    0.220000  -54.800000 -179.170000   \n",
       "25%     31.990000   65.000000   20.000000    4.025000   -6.445000  -59.525000   \n",
       "50%     62.170000   78.000000   72.000000    7.000000   25.520000   16.430000   \n",
       "75%     77.825000   88.000000   90.000000   12.030000   50.240000   94.425000   \n",
       "max    100.400000  100.000000  100.000000   60.620000   78.220000  179.320000   \n",
       "\n",
       "               date  \n",
       "count  5.510000e+02  \n",
       "mean   1.607880e+09  \n",
       "std    1.391003e+02  \n",
       "min    1.607879e+09  \n",
       "25%    1.607880e+09  \n",
       "50%    1.607880e+09  \n",
       "75%    1.607880e+09  \n",
       "max    1.607880e+09  "
      ]
     },
     "execution_count": 9,
     "metadata": {},
     "output_type": "execute_result"
    }
   ],
   "source": [
    "# reviewing high level statistics for the data set\n",
    "cities_weather_df.describe()"
   ]
  },
  {
   "cell_type": "markdown",
   "metadata": {},
   "source": [
    "## Inspect the data and remove the cities where the humidity > 100%.\n",
    "----\n",
    "* Since the data is selected based on time and random selection of the coordinates. I'm going to include the scrip so clean data set never has cities where the humidity > 100% and I will then save the clean data set into a csv file"
   ]
  },
  {
   "cell_type": "code",
   "execution_count": 11,
   "metadata": {},
   "outputs": [
    {
     "data": {
      "text/html": [
       "<div>\n",
       "<style scoped>\n",
       "    .dataframe tbody tr th:only-of-type {\n",
       "        vertical-align: middle;\n",
       "    }\n",
       "\n",
       "    .dataframe tbody tr th {\n",
       "        vertical-align: top;\n",
       "    }\n",
       "\n",
       "    .dataframe thead th {\n",
       "        text-align: right;\n",
       "    }\n",
       "</style>\n",
       "<table border=\"1\" class=\"dataframe\">\n",
       "  <thead>\n",
       "    <tr style=\"text-align: right;\">\n",
       "      <th></th>\n",
       "      <th>max_temp</th>\n",
       "      <th>humidity</th>\n",
       "      <th>cloudiness</th>\n",
       "      <th>wind_speed</th>\n",
       "      <th>lat</th>\n",
       "      <th>lon</th>\n",
       "      <th>date</th>\n",
       "    </tr>\n",
       "  </thead>\n",
       "  <tbody>\n",
       "    <tr>\n",
       "      <th>count</th>\n",
       "      <td>551.000000</td>\n",
       "      <td>551.000000</td>\n",
       "      <td>551.000000</td>\n",
       "      <td>551.000000</td>\n",
       "      <td>551.000000</td>\n",
       "      <td>551.000000</td>\n",
       "      <td>5.510000e+02</td>\n",
       "    </tr>\n",
       "    <tr>\n",
       "      <th>mean</th>\n",
       "      <td>51.955953</td>\n",
       "      <td>73.431942</td>\n",
       "      <td>56.813067</td>\n",
       "      <td>8.974537</td>\n",
       "      <td>21.053902</td>\n",
       "      <td>14.346207</td>\n",
       "      <td>1.607880e+09</td>\n",
       "    </tr>\n",
       "    <tr>\n",
       "      <th>std</th>\n",
       "      <td>32.185658</td>\n",
       "      <td>19.734566</td>\n",
       "      <td>37.834802</td>\n",
       "      <td>6.818956</td>\n",
       "      <td>33.558862</td>\n",
       "      <td>89.698730</td>\n",
       "      <td>1.391003e+02</td>\n",
       "    </tr>\n",
       "    <tr>\n",
       "      <th>min</th>\n",
       "      <td>-49.760000</td>\n",
       "      <td>1.000000</td>\n",
       "      <td>0.000000</td>\n",
       "      <td>0.220000</td>\n",
       "      <td>-54.800000</td>\n",
       "      <td>-179.170000</td>\n",
       "      <td>1.607879e+09</td>\n",
       "    </tr>\n",
       "    <tr>\n",
       "      <th>25%</th>\n",
       "      <td>31.990000</td>\n",
       "      <td>65.000000</td>\n",
       "      <td>20.000000</td>\n",
       "      <td>4.025000</td>\n",
       "      <td>-6.445000</td>\n",
       "      <td>-59.525000</td>\n",
       "      <td>1.607880e+09</td>\n",
       "    </tr>\n",
       "    <tr>\n",
       "      <th>50%</th>\n",
       "      <td>62.170000</td>\n",
       "      <td>78.000000</td>\n",
       "      <td>72.000000</td>\n",
       "      <td>7.000000</td>\n",
       "      <td>25.520000</td>\n",
       "      <td>16.430000</td>\n",
       "      <td>1.607880e+09</td>\n",
       "    </tr>\n",
       "    <tr>\n",
       "      <th>75%</th>\n",
       "      <td>77.825000</td>\n",
       "      <td>88.000000</td>\n",
       "      <td>90.000000</td>\n",
       "      <td>12.030000</td>\n",
       "      <td>50.240000</td>\n",
       "      <td>94.425000</td>\n",
       "      <td>1.607880e+09</td>\n",
       "    </tr>\n",
       "    <tr>\n",
       "      <th>max</th>\n",
       "      <td>100.400000</td>\n",
       "      <td>100.000000</td>\n",
       "      <td>100.000000</td>\n",
       "      <td>60.620000</td>\n",
       "      <td>78.220000</td>\n",
       "      <td>179.320000</td>\n",
       "      <td>1.607880e+09</td>\n",
       "    </tr>\n",
       "  </tbody>\n",
       "</table>\n",
       "</div>"
      ],
      "text/plain": [
       "         max_temp    humidity  cloudiness  wind_speed         lat         lon  \\\n",
       "count  551.000000  551.000000  551.000000  551.000000  551.000000  551.000000   \n",
       "mean    51.955953   73.431942   56.813067    8.974537   21.053902   14.346207   \n",
       "std     32.185658   19.734566   37.834802    6.818956   33.558862   89.698730   \n",
       "min    -49.760000    1.000000    0.000000    0.220000  -54.800000 -179.170000   \n",
       "25%     31.990000   65.000000   20.000000    4.025000   -6.445000  -59.525000   \n",
       "50%     62.170000   78.000000   72.000000    7.000000   25.520000   16.430000   \n",
       "75%     77.825000   88.000000   90.000000   12.030000   50.240000   94.425000   \n",
       "max    100.400000  100.000000  100.000000   60.620000   78.220000  179.320000   \n",
       "\n",
       "               date  \n",
       "count  5.510000e+02  \n",
       "mean   1.607880e+09  \n",
       "std    1.391003e+02  \n",
       "min    1.607879e+09  \n",
       "25%    1.607880e+09  \n",
       "50%    1.607880e+09  \n",
       "75%    1.607880e+09  \n",
       "max    1.607880e+09  "
      ]
     },
     "execution_count": 11,
     "metadata": {},
     "output_type": "execute_result"
    }
   ],
   "source": [
    "clean_df = cities_weather_df[cities_weather_df['humidity']<=100]\n",
    "clean_df.describe()"
   ]
  },
  {
   "cell_type": "code",
   "execution_count": 12,
   "metadata": {},
   "outputs": [],
   "source": [
    "# saving clean data set into CSV file\n",
    "clean_df.to_csv(\"./output_data/cities_weather.csv\", index = False)"
   ]
  },
  {
   "cell_type": "markdown",
   "metadata": {},
   "source": [
    "## Plotting the Data\n",
    "* Use proper labeling of the plots using plot titles (including date of analysis) and axes labels.\n",
    "* Save the plotted figures as .pngs."
   ]
  },
  {
   "cell_type": "markdown",
   "metadata": {},
   "source": [
    "## Latitude vs. Temperature Plot"
   ]
  },
  {
   "cell_type": "code",
   "execution_count": 42,
   "metadata": {},
   "outputs": [
    {
     "data": {
      "image/png": "[encoded data removed]",
      "text/plain": [
       "<Figure size 432x288 with 1 Axes>"
      ]
     },
     "metadata": {
      "needs_background": "light"
     },
     "output_type": "display_data"
    }
   ],
   "source": [
    "plt.scatter(clean_df['lat'], clean_df['max_temp'], facecolor='cadetblue', edgecolor = \"black\")\n",
    "day_of_analysis = date.today()\n",
    "plt.title(f'City Latitude vs. Max Temperature ({day_of_analysis})')\n",
    "plt.xlabel('Latitude')\n",
    "plt.ylabel('Max Temperature (F)')\n",
    "plt.grid(linestyle='-', linewidth=1, alpha = 0.4)\n",
    "plt.savefig(\"../Images/city_latitude_vs_max_temp.png\")"
   ]
  },
  {
   "cell_type": "markdown",
   "metadata": {},
   "source": [
    "###### The code creates scatter plot of lattitude vs max temputure. It is obvious the closer you are to the equator the highre the temperature is"
   ]
  },
  {
   "cell_type": "markdown",
   "metadata": {},
   "source": [
    "## Latitude vs. Humidity Plot"
   ]
  },
  {
   "cell_type": "code",
   "execution_count": 43,
   "metadata": {},
   "outputs": [
    {
     "data": {
      "image/png": "[encoded data removed]",
      "text/plain": [
       "<Figure size 432x288 with 1 Axes>"
      ]
     },
     "metadata": {
      "needs_background": "light"
     },
     "output_type": "display_data"
    }
   ],
   "source": [
    "plt.scatter(clean_df['lat'], clean_df['humidity'], facecolor='cadetblue', edgecolor = \"black\")\n",
    "day_of_analysis = date.today()\n",
    "plt.title(f'City Latitude vs. Humidity ({day_of_analysis})')\n",
    "plt.xlabel('Latitude')\n",
    "plt.ylabel('Humidity (%)')\n",
    "plt.grid(linestyle='-', linewidth=1, alpha = 0.4)\n",
    "plt.savefig(\"../Images/city_latitude_vs_humidity.png\")"
   ]
  },
  {
   "cell_type": "markdown",
   "metadata": {},
   "source": [
    "###### The code builds scatter plot of latitude vs humidity. There is no clear relation between humidity and latitude. However it does seem like North Pole has more occurrences of higher humidity"
   ]
  },
  {
   "cell_type": "markdown",
   "metadata": {},
   "source": [
    "## Latitude vs. Cloudiness Plot"
   ]
  },
  {
   "cell_type": "code",
   "execution_count": 44,
   "metadata": {},
   "outputs": [
    {
     "data": {
      "image/png": "[encoded data removed]",
      "text/plain": [
       "<Figure size 432x288 with 1 Axes>"
      ]
     },
     "metadata": {
      "needs_background": "light"
     },
     "output_type": "display_data"
    }
   ],
   "source": [
    "plt.scatter(clean_df['lat'], clean_df['cloudiness'], facecolor='cadetblue', edgecolor = \"black\")\n",
    "day_of_analysis = date.today()\n",
    "plt.title(f'City Latitude vs. Cloudiness ({day_of_analysis})')\n",
    "plt.xlabel('Latitude')\n",
    "plt.ylabel('Cloudiness (%)')\n",
    "plt.grid(linestyle='-', linewidth=1, alpha = 0.4)\n",
    "plt.savefig(\"../Images/city_latitude_vs_cloudiness.png\")"
   ]
  },
  {
   "cell_type": "markdown",
   "metadata": {},
   "source": [
    "###### The code builds scatter plot of latitude vs cloudiness. There is no clear relation between cloudiness and latitude."
   ]
  },
  {
   "cell_type": "markdown",
   "metadata": {},
   "source": [
    "## Latitude vs. Wind Speed Plot"
   ]
  },
  {
   "cell_type": "code",
   "execution_count": 45,
   "metadata": {},
   "outputs": [
    {
     "data": {
      "image/png": "[encoded data removed]",
      "text/plain": [
       "<Figure size 432x288 with 1 Axes>"
      ]
     },
     "metadata": {
      "needs_background": "light"
     },
     "output_type": "display_data"
    }
   ],
   "source": [
    "plt.scatter(clean_df['lat'], clean_df['wind_speed'], facecolor='cadetblue', edgecolor = \"black\")\n",
    "day_of_analysis = date.today()\n",
    "plt.title(f'City Latitude vs. Wind Speed ({day_of_analysis})')\n",
    "plt.xlabel('Latitude')\n",
    "plt.ylabel('wind_speed (mph)')\n",
    "plt.grid(linestyle='-', linewidth=1, alpha = 0.4)\n",
    "plt.savefig(\"../Images/city_latitude_vs_wind_speed.png\")"
   ]
  },
  {
   "cell_type": "markdown",
   "metadata": {},
   "source": [
    "###### The code builds scatter plot of latitude vs wind speed. There is no clear relation between wind speed and latitude."
   ]
  },
  {
   "cell_type": "markdown",
   "metadata": {},
   "source": [
    "## Linear Regression"
   ]
  },
  {
   "cell_type": "code",
   "execution_count": null,
   "metadata": {},
   "outputs": [],
   "source": []
  },
  {
   "cell_type": "code",
   "execution_count": 24,
   "metadata": {},
   "outputs": [],
   "source": []
  },
  {
   "cell_type": "markdown",
   "metadata": {},
   "source": [
    "####  Northern Hemisphere - Max Temp vs. Latitude Linear Regression"
   ]
  },
  {
   "cell_type": "code",
   "execution_count": 25,
   "metadata": {},
   "outputs": [
    {
     "name": "stdout",
     "output_type": "stream",
     "text": [
      "The r-value is: 0.46937863826630627\n"
     ]
    },
    {
     "data": {
      "image/png": "[encoded data removed]",
      "text/plain": [
       "<Figure size 432x288 with 1 Axes>"
      ]
     },
     "metadata": {
      "needs_background": "light"
     },
     "output_type": "display_data"
    }
   ],
   "source": []
  },
  {
   "cell_type": "markdown",
   "metadata": {},
   "source": [
    "####  Southern Hemisphere - Max Temp vs. Latitude Linear Regression"
   ]
  },
  {
   "cell_type": "code",
   "execution_count": 26,
   "metadata": {},
   "outputs": [
    {
     "name": "stdout",
     "output_type": "stream",
     "text": [
      "The r-value is: 0.6082708688906918\n"
     ]
    },
    {
     "data": {
      "image/png": "[encoded data removed]",
      "text/plain": [
       "<Figure size 432x288 with 1 Axes>"
      ]
     },
     "metadata": {
      "needs_background": "light"
     },
     "output_type": "display_data"
    }
   ],
   "source": []
  },
  {
   "cell_type": "markdown",
   "metadata": {},
   "source": [
    "####  Northern Hemisphere - Humidity (%) vs. Latitude Linear Regression"
   ]
  },
  {
   "cell_type": "code",
   "execution_count": 27,
   "metadata": {},
   "outputs": [
    {
     "name": "stdout",
     "output_type": "stream",
     "text": [
      "The r-value is: 0.000543987878808455\n"
     ]
    },
    {
     "data": {
      "image/png": "[encoded data removed]",
      "text/plain": [
       "<Figure size 432x288 with 1 Axes>"
      ]
     },
     "metadata": {
      "needs_background": "light"
     },
     "output_type": "display_data"
    }
   ],
   "source": []
  },
  {
   "cell_type": "markdown",
   "metadata": {},
   "source": [
    "####  Southern Hemisphere - Humidity (%) vs. Latitude Linear Regression"
   ]
  },
  {
   "cell_type": "code",
   "execution_count": 28,
   "metadata": {},
   "outputs": [
    {
     "name": "stdout",
     "output_type": "stream",
     "text": [
      "The r-value is: 0.014985174297345524\n"
     ]
    },
    {
     "data": {
      "image/png": "[encoded data removed]",
      "text/plain": [
       "<Figure size 432x288 with 1 Axes>"
      ]
     },
     "metadata": {
      "needs_background": "light"
     },
     "output_type": "display_data"
    }
   ],
   "source": []
  },
  {
   "cell_type": "markdown",
   "metadata": {},
   "source": [
    "####  Northern Hemisphere - Cloudiness (%) vs. Latitude Linear Regression"
   ]
  },
  {
   "cell_type": "code",
   "execution_count": 29,
   "metadata": {},
   "outputs": [
    {
     "name": "stdout",
     "output_type": "stream",
     "text": [
      "The r-value is: 0.0020898727664228514\n"
     ]
    },
    {
     "data": {
      "image/png": "[encoded data removed]",
      "text/plain": [
       "<Figure size 432x288 with 1 Axes>"
      ]
     },
     "metadata": {
      "needs_background": "light"
     },
     "output_type": "display_data"
    }
   ],
   "source": []
  },
  {
   "cell_type": "markdown",
   "metadata": {},
   "source": [
    "####  Southern Hemisphere - Cloudiness (%) vs. Latitude Linear Regression"
   ]
  },
  {
   "cell_type": "code",
   "execution_count": 30,
   "metadata": {},
   "outputs": [
    {
     "name": "stdout",
     "output_type": "stream",
     "text": [
      "The r-value is: 0.0035263772085582894\n"
     ]
    },
    {
     "data": {
      "image/png": "[encoded data removed]",
      "text/plain": [
       "<Figure size 432x288 with 1 Axes>"
      ]
     },
     "metadata": {
      "needs_background": "light"
     },
     "output_type": "display_data"
    }
   ],
   "source": []
  },
  {
   "cell_type": "markdown",
   "metadata": {},
   "source": [
    "####  Northern Hemisphere - Wind Speed (mph) vs. Latitude Linear Regression"
   ]
  },
  {
   "cell_type": "code",
   "execution_count": 31,
   "metadata": {},
   "outputs": [
    {
     "name": "stdout",
     "output_type": "stream",
     "text": [
      "The r-value is: 0.04019723576144484\n"
     ]
    },
    {
     "data": {
      "image/png": "[encoded data removed]",
      "text/plain": [
       "<Figure size 432x288 with 1 Axes>"
      ]
     },
     "metadata": {
      "needs_background": "light"
     },
     "output_type": "display_data"
    }
   ],
   "source": []
  },
  {
   "cell_type": "markdown",
   "metadata": {},
   "source": [
    "####  Southern Hemisphere - Wind Speed (mph) vs. Latitude Linear Regression"
   ]
  },
  {
   "cell_type": "code",
   "execution_count": 32,
   "metadata": {},
   "outputs": [
    {
     "name": "stdout",
     "output_type": "stream",
     "text": [
      "The r-value is: 0.017128274759839232\n"
     ]
    },
    {
     "data": {
      "image/png": "[encoded data removed]",
      "text/plain": [
       "<Figure size 432x288 with 1 Axes>"
      ]
     },
     "metadata": {
      "needs_background": "light"
     },
     "output_type": "display_data"
    }
   ],
   "source": []
  },
  {
   "cell_type": "code",
   "execution_count": null,
   "metadata": {},
   "outputs": [],
   "source": []
  }
 ],
 "metadata": {
  "anaconda-cloud": {},
  "kernel_info": {
   "name": "python3"
  },
  "kernelspec": {
   "display_name": "Python 3",
   "language": "python",
   "name": "python3"
  },
  "language_info": {
   "codemirror_mode": {
    "name": "ipython",
    "version": 3
   },
   "file_extension": ".py",
   "mimetype": "text/x-python",
   "name": "python",
   "nbconvert_exporter": "python",
   "pygments_lexer": "ipython3",
   "version": "3.8.5"
  },
  "latex_envs": {
   "LaTeX_envs_menu_present": true,
   "autoclose": false,
   "autocomplete": true,
   "bibliofile": "biblio.bib",
   "cite_by": "apalike",
   "current_citInitial": 1,
   "eqLabelWithNumbers": true,
   "eqNumInitial": 1,
   "hotkeys": {
    "equation": "Ctrl-E",
    "itemize": "Ctrl-I"
   },
   "labels_anchors": false,
   "latex_user_defs": false,
   "report_style_numbering": false,
   "user_envs_cfg": false
  },
  "nteract": {
   "version": "0.12.3"
  }
 },
 "nbformat": 4,
 "nbformat_minor": 2
}
